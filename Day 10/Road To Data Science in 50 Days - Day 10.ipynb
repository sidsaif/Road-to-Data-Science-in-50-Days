{
 "cells": [
  {
   "cell_type": "markdown",
   "metadata": {},
   "source": [
    "***\n",
    "# Road to Data Science in 50 Days - Day 10\n",
    "***\n",
    "\n",
    "## Python for Data Science\n",
    "![](https://miro.medium.com/max/1040/1*IJaOVvKEEseucx63gHluIQ.jpeg)"
   ]
  },
  {
   "cell_type": "markdown",
   "metadata": {},
   "source": [
    "# User Defined Functions\n",
    "\n",
    "A function that you define yourself in a program is known as user defined function. You can give any name to a user defined function, however you cannot use the Python keywords as function name.\n",
    "\n",
    "In python, we define the user-defined function using **def** keyword, followed by the function name.\n",
    "\n",
    "Function name is followed by the parameters in parenthesis, followed by the colon\n",
    "\n",
    "**For example**:\n",
    "\n",
    "    def function_name(parameter_1, parameter_2, ...) :\n",
    "          statements\n",
    "          ....\n",
    "          \n",
    "#### Calling a user-defined function\n",
    "\n",
    "You can call a user defined function by using function name followed by the arguments in the parenthesis.\n",
    "\n",
    "**For example**:\n",
    "\n",
    "    function_name(argument_1, argument_2)\n",
    "    \n",
    "#### Example of a user-defined function\n",
    "\n",
    "In the following example we have defined a user-defined function **sum**. This function can accept two arguments as we have defined this function with two parameters. Inside the print() function we are calling the function **sum** and passing the numbers x & y as arguments.\n",
    "\n",
    "In the **sum() function** we have a return statement that returns the sum of two parameters, that are passed to the function as arguments.\n",
    "\n",
    "As you can see, we have used a **print() function** in the following example without even defining that function, this is because print() is a built-in function, which is already available to use and we can just call it."
   ]
  },
  {
   "cell_type": "code",
   "execution_count": 2,
   "metadata": {},
   "outputs": [
    {
     "name": "stdout",
     "output_type": "stream",
     "text": [
      "The sum of 10 and 20 is: 30\n"
     ]
    }
   ],
   "source": [
    "# Program to demonstrate the\n",
    "# use of user defined functions\n",
    "\n",
    "def sum(a,b):\n",
    "   total = a + b\n",
    "   return total\n",
    "\n",
    "x = 10\n",
    "y = 20\n",
    "\n",
    "print(\"The sum of\",x,\"and\",y,\"is:\",sum(x, y))"
   ]
  },
  {
   "cell_type": "markdown",
   "metadata": {},
   "source": [
    "## Let's try some examples of User Defined Functions\n",
    "\n",
    "### Example 1:- Arithmetic Progression\n",
    "\n",
    "Write a function to return a list with artihmetic progression defined as follows :-\n",
    "\n",
    "a, a+d, a+2d, a+3d, ...., a+(n-1)d"
   ]
  },
  {
   "cell_type": "code",
   "execution_count": 3,
   "metadata": {},
   "outputs": [],
   "source": [
    "# Creating the function\n",
    "def arithmetic_progression(a,d,n):\n",
    "    ap_list = []\n",
    "    for i in range(0,n,1):\n",
    "        value = a+i*d\n",
    "        ap_list.append(value)\n",
    "    return ap_list"
   ]
  },
  {
   "cell_type": "code",
   "execution_count": 4,
   "metadata": {},
   "outputs": [
    {
     "name": "stdout",
     "output_type": "stream",
     "text": [
      "Here the parameters are a = 100, d = 4 and n=10\n",
      "The list obtained after execution of function arithmetic_progression is  [100, 104, 108, 112, 116, 120, 124, 128, 132, 136]\n"
     ]
    }
   ],
   "source": [
    "## Calling the function\n",
    "a = arithmetic_progression(100,4,10)\n",
    "print('Here the parameters are a = 100, d = 4 and n=10')\n",
    "print(\"The list obtained after execution of function arithmetic_progression is \",a)"
   ]
  },
  {
   "cell_type": "markdown",
   "metadata": {},
   "source": [
    "### Example 2:- Greetings\n",
    "\n",
    "Ask the user to enter his/her name and then say \"Hi\" to them"
   ]
  },
  {
   "cell_type": "code",
   "execution_count": 5,
   "metadata": {},
   "outputs": [],
   "source": [
    "def Greetings():\n",
    "    name = input('Please enter your name: ')\n",
    "    return 'Hi! '+name"
   ]
  },
  {
   "cell_type": "code",
   "execution_count": 6,
   "metadata": {},
   "outputs": [
    {
     "name": "stdout",
     "output_type": "stream",
     "text": [
      "Please enter your name: Saif\n"
     ]
    },
    {
     "data": {
      "text/plain": [
       "'Hi! Saif'"
      ]
     },
     "execution_count": 6,
     "metadata": {},
     "output_type": "execute_result"
    }
   ],
   "source": [
    "## CALLING THE FUNCTION\n",
    "Greetings()"
   ]
  },
  {
   "cell_type": "markdown",
   "metadata": {},
   "source": [
    "### Example 3:- Palindrome or not\n",
    "\n",
    "Enter a number/string and check if it is palindrome or not"
   ]
  },
  {
   "cell_type": "code",
   "execution_count": 13,
   "metadata": {},
   "outputs": [],
   "source": [
    "def Palindrome_check(value):\n",
    "    value= value.lower()\n",
    "    if value == value[::-1]:\n",
    "        return('Palindrome')\n",
    "    else:\n",
    "        return('Non Palindrome')"
   ]
  },
  {
   "cell_type": "code",
   "execution_count": 14,
   "metadata": {},
   "outputs": [
    {
     "name": "stdout",
     "output_type": "stream",
     "text": [
      "Enter a value to check if it is a Palindrome or not:- abba\n",
      "The text  abba  is  Palindrome\n"
     ]
    }
   ],
   "source": [
    "value = input('Enter a value to check if it is a Palindrome or not:- ')\n",
    "print('The text ',value,' is ',Palindrome_check(value))"
   ]
  },
  {
   "cell_type": "markdown",
   "metadata": {},
   "source": [
    "### Example 4:- Normalising an array"
   ]
  },
  {
   "cell_type": "code",
   "execution_count": 18,
   "metadata": {},
   "outputs": [],
   "source": [
    "import numpy as np\n",
    "def normalize_array(list_entered):\n",
    "    array = np.float_(np.array(list_entered))\n",
    "    return array/np.sqrt(array.dot(array))"
   ]
  },
  {
   "cell_type": "code",
   "execution_count": 19,
   "metadata": {},
   "outputs": [
    {
     "name": "stdout",
     "output_type": "stream",
     "text": [
      "Enter list elements separated by space 1 2 4 2 6 2 64 2 7 35 24 6 3\n",
      "The norm of  ['1', '2', '4', '2', '6', '2', '64', '2', '7', '35', '24', '6', '3']  will be  [0.01284587 0.02569175 0.0513835  0.02569175 0.07707525 0.02569175\n",
      " 0.82213599 0.02569175 0.08992112 0.44960562 0.308301   0.07707525\n",
      " 0.03853762]\n",
      "The dot product with itself for a normalized array must be 1.\n",
      "We have  1.0\n"
     ]
    }
   ],
   "source": [
    "a = input('Enter list elements separated by space ')\n",
    "a = a.split(\" \")\n",
    "print('The norm of ',a,' will be ',normalize_array(a))\n",
    "print('The dot product with itself for a normalized array must be 1.')\n",
    "print('We have ',round(normalize_array(a).dot(normalize_array(a)),2))"
   ]
  },
  {
   "cell_type": "markdown",
   "metadata": {},
   "source": [
    "***\n",
    "# Python Object Oriented Programming\n",
    "***\n",
    "\n",
    "![](https://365datascience.com/wp-content/uploads/2018/07/OOP-min-e1533110131663.png)\n",
    "\n",
    "### Object Oriented Programming\n",
    "\n",
    "Python is a multi-paradigm programming language. It supports different programming approaches.\n",
    "\n",
    "One of the popular approaches to solve a programming problem is by creating objects. This is known as Object-Oriented Programming (OOP).\n",
    "\n",
    "An object has two characteristics:\n",
    "\n",
    "* attributes\n",
    "* behavior\n",
    "\n",
    "Let's take an example:\n",
    "\n",
    "A parrot is can be an object,as it has the following properties:\n",
    "\n",
    "* name, age, color as attributes\n",
    "* singing, dancing as behavior\n",
    "\n",
    "The concept of OOP in Python focuses on creating reusable code. This concept is also known as DRY (Don't Repeat Yourself).\n",
    "\n",
    "In Python, the concept of OOP follows some basic principles:\n",
    "\n",
    "## Class\n",
    "***\n",
    "\n",
    "![](https://d1jnx9ba8s6j9r.cloudfront.net/blog/wp-content/uploads/2017/07/Objects-python-class-Edureka-406x300.jpg)\n",
    "A class is a blueprint for the object.\n",
    "\n",
    "We can think of class as a sketch of a parrot with labels. It contains all the details about the name, colors, size etc. Based on these descriptions, we can study about the parrot. Here, a parrot is an object.\n",
    "\n",
    "The example for class of parrot can be :\n",
    "\n",
    "    class Parrot:\n",
    "    pass\n",
    "    \n",
    "Here, we use the **class** keyword to define an empty class **Parrot**. From class, we construct instances. An instance is a specific object created from a particular class.\n",
    "\n",
    "## Object\n",
    "***\n",
    "An object (instance) is an instantiation of a class. When class is defined, only the description for the object is defined. Therefore, no memory or storage is allocated.\n",
    "\n",
    "The example for object of parrot class can be:\n",
    "\n",
    "    obj = Parrot()\n",
    "    \n",
    "Here, **obj** is an object of class **Parrot**.\n",
    "\n",
    "Suppose we have details of parrots. Now, we are going to show how to build the class and objects of parrots.\n",
    "\n",
    "### Example 1: Creating Class and Object in Python"
   ]
  },
  {
   "cell_type": "code",
   "execution_count": 20,
   "metadata": {},
   "outputs": [
    {
     "name": "stdout",
     "output_type": "stream",
     "text": [
      "Blu is a bird\n",
      "Woo is also a bird\n",
      "Blu is 10 years old\n",
      "Woo is 15 years old\n"
     ]
    }
   ],
   "source": [
    "class Parrot:\n",
    "\n",
    "    # class attribute\n",
    "    species = \"bird\"\n",
    "\n",
    "    # instance attribute\n",
    "    def __init__(self, name, age):\n",
    "        self.name = name\n",
    "        self.age = age\n",
    "\n",
    "# instantiate the Parrot class\n",
    "blu = Parrot(\"Blu\", 10)\n",
    "woo = Parrot(\"Woo\", 15)\n",
    "\n",
    "# access the class attributes\n",
    "print(\"Blu is a {}\".format(blu.__class__.species))\n",
    "print(\"Woo is also a {}\".format(woo.__class__.species))\n",
    "\n",
    "# access the instance attributes\n",
    "print(\"{} is {} years old\".format( blu.name, blu.age))\n",
    "print(\"{} is {} years old\".format( woo.name, woo.age))"
   ]
  },
  {
   "cell_type": "markdown",
   "metadata": {},
   "source": [
    "In the above program, we created a class with the name **Parrot**. Then, we define attributes. The attributes are a characteristic of an object.\n",
    "\n",
    "These attributes are defined inside the __init__ method of the class. It is the initializer method that is first run as soon as the object is created.\n",
    "\n",
    "Then, we create instances of the **Parrot** class. Here, **blu** and **woo** are references (value) to our new objects.\n",
    "\n",
    "We can access the class attribute using **__class__.species**. Class attributes are the same for all instances of a class. Similarly, we access the instance attributes using **blu.name** and **blu.age**. However, instance attributes are different for every instance of a class.\n",
    "\n",
    "To learn more about Class and Object, watch: https://www.youtube.com/watch?v=8O5kX73OkIY&list=PLsyeobzWxl7poL9JTVyndKe62ieoN-MZ3&index=53"
   ]
  },
  {
   "cell_type": "markdown",
   "metadata": {},
   "source": [
    "## Methods\n",
    "***\n",
    "Methods are functions defined inside the body of a class. They are used to define the behaviors of an object.\n",
    "\n",
    "### Example 2 : Creating Methods in Python"
   ]
  },
  {
   "cell_type": "code",
   "execution_count": 21,
   "metadata": {},
   "outputs": [
    {
     "name": "stdout",
     "output_type": "stream",
     "text": [
      "Blu sings 'Happy'\n",
      "Blu is now dancing\n"
     ]
    }
   ],
   "source": [
    "class Parrot:\n",
    "    \n",
    "    # instance attributes\n",
    "    def __init__(self, name, age):\n",
    "        self.name = name\n",
    "        self.age = age\n",
    "    \n",
    "    # instance method\n",
    "    def sing(self, song):\n",
    "        return \"{} sings {}\".format(self.name, song)\n",
    "\n",
    "    def dance(self):\n",
    "        return \"{} is now dancing\".format(self.name)\n",
    "\n",
    "# instantiate the object\n",
    "blu = Parrot(\"Blu\", 10)\n",
    "\n",
    "# call our instance methods\n",
    "print(blu.sing(\"'Happy'\"))\n",
    "print(blu.dance())"
   ]
  },
  {
   "cell_type": "markdown",
   "metadata": {},
   "source": [
    "In the above program, we define two methods i.e **sing()** and **dance()**. These are called instance methods because they are called on an instance object i.e **blu**.\n",
    "\n",
    "To learn more about Methods, watch: https://www.youtube.com/watch?v=lVfGQOzzRCM&list=PLsyeobzWxl7poL9JTVyndKe62ieoN-MZ3&index=57"
   ]
  },
  {
   "cell_type": "markdown",
   "metadata": {},
   "source": [
    "## Inheritance\n",
    "***\n",
    "\n",
    "![](https://cdn.techbeamers.com/wp-content/uploads/2019/09/Difference-Between-Multiple-and-Multilevel-Inheritance.png)\n",
    "Inheritance is a way of creating a new class for using details of an existing class without modifying it. The newly formed class is a derived class (or child class). Similarly, the existing class is a base class (or parent class).\n",
    "\n",
    "### Example 3: Use of Inheritance in Python"
   ]
  },
  {
   "cell_type": "code",
   "execution_count": 22,
   "metadata": {},
   "outputs": [
    {
     "name": "stdout",
     "output_type": "stream",
     "text": [
      "Bird is ready\n",
      "Penguin is ready\n",
      "Penguin\n",
      "Swim faster\n",
      "Run faster\n"
     ]
    }
   ],
   "source": [
    "# parent class\n",
    "class Bird:\n",
    "    \n",
    "    def __init__(self):\n",
    "        print(\"Bird is ready\")\n",
    "\n",
    "    def whoisThis(self):\n",
    "        print(\"Bird\")\n",
    "\n",
    "    def swim(self):\n",
    "        print(\"Swim faster\")\n",
    "\n",
    "# child class\n",
    "class Penguin(Bird):\n",
    "\n",
    "    def __init__(self):\n",
    "        # call super() function\n",
    "        super().__init__()\n",
    "        print(\"Penguin is ready\")\n",
    "\n",
    "    def whoisThis(self):\n",
    "        print(\"Penguin\")\n",
    "\n",
    "    def run(self):\n",
    "        print(\"Run faster\")\n",
    "\n",
    "peggy = Penguin()\n",
    "peggy.whoisThis()\n",
    "peggy.swim()\n",
    "peggy.run()"
   ]
  },
  {
   "cell_type": "markdown",
   "metadata": {},
   "source": [
    "In the above program, we created two classes i.e. **Bird** (parent class) and **Penguin** (child class). The child class inherits the functions of parent class. We can see this from the **swim()** method.\n",
    "\n",
    "Again, the child class modified the behavior of the parent class. We can see this from the **whoisThis()** method. Furthermore, we extend the functions of the parent class, by creating a new run() method.\n",
    "\n",
    "Additionally, we use the **super()** function inside the **__init__()** method. This allows us to run the **__init__()** method of the parent class inside the child class.\n",
    "\n",
    "To learn more about inheritence, watch: https://www.youtube.com/watch?v=Cn7AkDb4pIU&list=PLsyeobzWxl7poL9JTVyndKe62ieoN-MZ3&index=59"
   ]
  },
  {
   "cell_type": "markdown",
   "metadata": {},
   "source": [
    "## Encapsulation\n",
    "***\n",
    "\n",
    "![](https://cdn.educba.com/academy/wp-content/uploads/2019/09/Encapsulation-in-Python.jpg)\n",
    "Using OOP in Python, we can restrict access to methods and variables. This prevents data from direct modification which is called encapsulation. In Python, we denote private attributes using underscore as the prefix i.e single **_** or double **__**.\n",
    "\n",
    "### Example 4: Data Encapsulation in Python"
   ]
  },
  {
   "cell_type": "code",
   "execution_count": 23,
   "metadata": {},
   "outputs": [
    {
     "name": "stdout",
     "output_type": "stream",
     "text": [
      "Selling Price: 900\n",
      "Selling Price: 900\n",
      "Selling Price: 1000\n"
     ]
    }
   ],
   "source": [
    "class Computer:\n",
    "\n",
    "    def __init__(self):\n",
    "        self.__maxprice = 900\n",
    "\n",
    "    def sell(self):\n",
    "        print(\"Selling Price: {}\".format(self.__maxprice))\n",
    "\n",
    "    def setMaxPrice(self, price):\n",
    "        self.__maxprice = price\n",
    "\n",
    "c = Computer()\n",
    "c.sell()\n",
    "\n",
    "# change the price\n",
    "c.__maxprice = 1000\n",
    "c.sell()\n",
    "\n",
    "# using setter function\n",
    "c.setMaxPrice(1000)\n",
    "c.sell()"
   ]
  },
  {
   "cell_type": "markdown",
   "metadata": {},
   "source": [
    "In the above program, we defined a **Computer** class.\n",
    "\n",
    "We used __init__() method to store the maximum selling price of **Computer**. We tried to modify the price. However, we can't change it because Python treats the __maxprice as private attributes.\n",
    "\n",
    "As shown, to change the value, we have to use a setter function i.e **setMaxPrice()** which takes price as a parameter."
   ]
  },
  {
   "cell_type": "markdown",
   "metadata": {},
   "source": [
    "## Polymorphism\n",
    "***\n",
    "\n",
    "![](https://image.slidesharecdn.com/28c-polymorphism-161229164248/95/python-polymorphism-7-638.jpg?cb=1483029949)\n",
    "Polymorphism is an ability (in OOP) to use a common interface for multiple forms (data types).\n",
    "\n",
    "Suppose, we need to color a shape, there are multiple shape options (rectangle, square, circle). However we could use the same method to color any shape. This concept is called Polymorphism.\n",
    "\n",
    "### Example 5: Using Polymorphism in Python"
   ]
  },
  {
   "cell_type": "code",
   "execution_count": 24,
   "metadata": {},
   "outputs": [
    {
     "name": "stdout",
     "output_type": "stream",
     "text": [
      "Parrot can fly\n",
      "Penguin can't fly\n"
     ]
    }
   ],
   "source": [
    "class Parrot:\n",
    "\n",
    "    def fly(self):\n",
    "        print(\"Parrot can fly\")\n",
    "    \n",
    "    def swim(self):\n",
    "        print(\"Parrot can't swim\")\n",
    "\n",
    "class Penguin:\n",
    "\n",
    "    def fly(self):\n",
    "        print(\"Penguin can't fly\")\n",
    "    \n",
    "    def swim(self):\n",
    "        print(\"Penguin can swim\")\n",
    "\n",
    "# common interface\n",
    "def flying_test(bird):\n",
    "    bird.fly()\n",
    "\n",
    "#instantiate objects\n",
    "blu = Parrot()\n",
    "peggy = Penguin()\n",
    "\n",
    "# passing the object\n",
    "flying_test(blu)\n",
    "flying_test(peggy)"
   ]
  },
  {
   "cell_type": "markdown",
   "metadata": {},
   "source": [
    "In the above program, we defined two classes **Parrot** and **Penguin**. Each of them have a common **fly()** method. However, their functions are different.\n",
    "\n",
    "To use polymorphism, we created a common interface i.e **flying_test()** function that takes any object and calls the object's **fly()** method. Thus, when we passed the blu and peggy objects in the **flying_test()** function, it ran effectively.\n",
    "\n",
    "To learn more about Polymorphism: https://www.youtube.com/watch?v=P1vH3Pfw6BI&list=PLsyeobzWxl7poL9JTVyndKe62ieoN-MZ3&index=61"
   ]
  },
  {
   "cell_type": "markdown",
   "metadata": {},
   "source": [
    "### Key Points to Remember:\n",
    "\n",
    "* Object-Oriented Programming makes the program easy to understand as well as efficient.\n",
    "\n",
    "\n",
    "* Since the class is sharable, the code can be reused.\n",
    "\n",
    "\n",
    "* Data is safe and secure with data abstraction.\n",
    "\n",
    "\n",
    "* Polymorphism allows the same interface for different objects, so programmers can write efficient code."
   ]
  },
  {
   "cell_type": "markdown",
   "metadata": {},
   "source": [
    "By now, we have got a good hold of Python and moving forward we will learn Python by implementing the statistics terms we learned earlier and will also learn/use 2 of the most used libraries in Data Analysis i.e. **Pandas** and **Numpy**.\n",
    "\n",
    "For those who are absolute beginners, i would suggest to follow the links to refer section, learn python for some more day and then come back to this series. "
   ]
  },
  {
   "cell_type": "markdown",
   "metadata": {},
   "source": [
    "# References and Links to Refer \n",
    "\n",
    "Python tutorials by TutorialsPoint: https://www.tutorialspoint.com/python/index.htm\n",
    "\n",
    "Python Tutorials by Programiz: https://www.programiz.com/python-programming/first-program\n",
    "\n",
    "## Video Tutorials:\n",
    "\n",
    "Practical Tutorial for OOP Concepts in Python by Edureka - https://www.youtube.com/watch?v=nrEhpPM9rS8\n",
    "\n",
    "Python Tutorials by Corey Schafer (I learned from him): https://www.youtube.com/watch?v=YYXdXT2l-Gg&list=PL-osiE80TeTt2d9bfVyTiXJA-UTHn6WwU\n",
    "\n",
    "Python Tutorials by Sentdex: https://www.youtube.com/watch?v=oVp1vrfL_w4&list=PLQVvvaa0QuDe8XSftW-RAxdo6OmaeL85M\n",
    "\n",
    "Python Tutorials by Telusko(Indian Author - Recommended): https://www.youtube.com/watch?v=QXeEoD0pB3E&list=PLsyeobzWxl7poL9JTVyndKe62ieoN-MZ3"
   ]
  }
 ],
 "metadata": {
  "kernelspec": {
   "display_name": "Python 3",
   "language": "python",
   "name": "python3"
  },
  "language_info": {
   "codemirror_mode": {
    "name": "ipython",
    "version": 3
   },
   "file_extension": ".py",
   "mimetype": "text/x-python",
   "name": "python",
   "nbconvert_exporter": "python",
   "pygments_lexer": "ipython3",
   "version": "3.7.4"
  }
 },
 "nbformat": 4,
 "nbformat_minor": 2
}
