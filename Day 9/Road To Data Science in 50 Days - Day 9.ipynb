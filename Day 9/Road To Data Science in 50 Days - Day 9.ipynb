{
 "cells": [
  {
   "cell_type": "markdown",
   "metadata": {},
   "source": [
    "***\n",
    "# Road to Data Science in 50 Days - Day 9\n",
    "***\n",
    "\n",
    "## Python for Data Science\n",
    "![](https://miro.medium.com/max/1040/1*IJaOVvKEEseucx63gHluIQ.jpeg)"
   ]
  },
  {
   "cell_type": "markdown",
   "metadata": {},
   "source": [
    "***\n",
    "# Python \n",
    "***\n",
    "\n",
    "**Python** is a general-purpose interpreted, interactive, object-oriented, and high-level programming language. It was created by Guido van Rossum during 1985- 1990. Like Perl, Python source code is also available under the GNU General Public License (GPL). This tutorial gives enough understanding on Python programming language.\n",
    "\n",
    "### Why to Learn Python?\n",
    "\n",
    "Python is a high-level, interpreted, interactive and object-oriented scripting language. Python is designed to be highly readable. It uses English keywords frequently where as other languages use punctuation, and it has fewer syntactical constructions than other languages.\n",
    "\n",
    "Python is a MUST for students and working professionals to become a great Software Engineer specially when they are working in Web Development Domain. I will list down some of the key advantages of learning Python:\n",
    "\n",
    "* **Python is Interpreted** − Python is processed at runtime by the interpreter. You do not need to compile your program before executing it. This is similar to PERL and PHP.\n",
    "\n",
    "* **Python is Interactive** − You can actually sit at a Python prompt and interact with the interpreter directly to write your programs.\n",
    "\n",
    "* **Python is Object-Oriented** − Python supports Object-Oriented style or technique of programming that encapsulates code within objects.\n",
    "\n",
    "* **Python is a Beginner's Language** − Python is a great language for the beginner-level programmers and supports the development of a wide range of applications from simple text processing to WWW browsers to games.\n",
    "\n",
    "### Characteristics of Python\n",
    "\n",
    "Following are important characteristics of Python Programming −\n",
    "\n",
    "* It supports functional and structured programming methods as well as OOP.\n",
    "\n",
    "* It can be used as a scripting language or can be compiled to byte-code for building large applications.\n",
    "\n",
    "* It provides very high-level dynamic data types and supports dynamic type checking.\n",
    "\n",
    "* It supports automatic garbage collection.\n",
    "\n",
    "* It can be easily integrated with C, C++, COM, ActiveX, CORBA, and Java."
   ]
  },
  {
   "cell_type": "markdown",
   "metadata": {},
   "source": [
    "***\n",
    "## Why Python for Data Science ? \n",
    "***\n",
    "\n",
    "“Data science” is just about as broad of a term as they come. It may be easiest to describe what it is by listing its more concrete components:\n",
    "\n",
    "#### Data exploration & analysis.\n",
    "\n",
    "* Included here: Pandas; NumPy; SciPy; a helping hand from Python’s Standard Library.\n",
    "\n",
    "#### Data visualization. \n",
    "\n",
    "A pretty self-explanatory name. Taking data and turning it into something colorful.\n",
    "\n",
    "* Included here: Matplotlib; Seaborn; Datashader; others.\n",
    "\n",
    "#### Classical machine learning. \n",
    "\n",
    "Conceptually, we could define this as any supervised or unsupervised learning task that is not deep learning (see below). Scikit-learn is far-and-away the go-to tool for implementing classification, regression, clustering, and dimensionality reduction, while StatsModels is less actively developed but still has a number of useful features.\n",
    "\n",
    "* Included here: Scikit-Learn, StatsModels.\n",
    "\n",
    "#### Deep learning. \n",
    "\n",
    "This is a subset of machine learning that is seeing a renaissance, and is commonly implemented with Keras, among other libraries. It has seen monumental improvements over the last ~5 years, such as AlexNet in 2012, which was the first design to incorporate consecutive convolutional layers.\n",
    "\n",
    "* Included here: Keras, TensorFlow, and a whole host of others.\n",
    "\n",
    "#### Data storage and big data frameworks. \n",
    "\n",
    "Big data is best defined as data that is either literally too large to reside on a single machine, or can’t be processed in the absence of a distributed environment. The Python bindings to Apache technologies play heavily here.\n",
    "\n",
    "* Apache Spark; Apache Hadoop; HDFS; Dask; h5py/pytables.\n",
    "\n",
    "##### Odds and ends. \n",
    "\n",
    "Includes subtopics such as natural language processing, and image manipulation with libraries such as OpenCV.\n",
    "\n",
    "* Included here: nltk; Spacy; OpenCV/cv2; scikit-image; Cython."
   ]
  },
  {
   "cell_type": "markdown",
   "metadata": {},
   "source": [
    "****\n",
    "# Basics\n",
    "****\n",
    "\n",
    "### Basics 1:- Variable declaration.\n",
    "\n",
    "A variable declaration is generally done using the assignment operator (equals to is also called assignment operator). In the example below, x is a variable that is assigned a constant value of 10"
   ]
  },
  {
   "cell_type": "code",
   "execution_count": 1,
   "metadata": {},
   "outputs": [
    {
     "name": "stdout",
     "output_type": "stream",
     "text": [
      "10\n"
     ]
    }
   ],
   "source": [
    "x = 10\n",
    "print(x)"
   ]
  },
  {
   "cell_type": "markdown",
   "metadata": {},
   "source": [
    "### Basics 2 :- Input operations\n",
    "\n",
    "We can ask user to input a value"
   ]
  },
  {
   "cell_type": "code",
   "execution_count": 2,
   "metadata": {},
   "outputs": [
    {
     "name": "stdout",
     "output_type": "stream",
     "text": [
      "Enter the value of x:- 10\n",
      "The value assigned to x by user is  10\n"
     ]
    }
   ],
   "source": [
    "x = input('Enter the value of x:- ')\n",
    "print('The value assigned to x by user is ',x)"
   ]
  },
  {
   "cell_type": "markdown",
   "metadata": {},
   "source": [
    "### Basics 3 :- Binary operations"
   ]
  },
  {
   "cell_type": "code",
   "execution_count": 3,
   "metadata": {},
   "outputs": [
    {
     "name": "stdout",
     "output_type": "stream",
     "text": [
      "Number obtained by adding number1 and number2 will be  160\n",
      "Number obtained by subtracting number 2 from number 1 will be  80\n",
      "Number obtained by multiplying number1 and number2  4800\n",
      "Number obtained by dividing number1 by number2 will be  3.0\n",
      "The remainder obtained on dividing number2 by number 3 will be  5\n",
      "The number obtained on raising 9 to the power of 3 will be  729\n"
     ]
    }
   ],
   "source": [
    "number1 = 120\n",
    "number2 = 40\n",
    "number3 = 7\n",
    "\n",
    "print('Number obtained by adding number1 and number2 will be ',number1+number2)\n",
    "print('Number obtained by subtracting number 2 from number 1 will be ',number1-number2)\n",
    "print('Number obtained by multiplying number1 and number2 ',number2*number1)\n",
    "print('Number obtained by dividing number1 by number2 will be ',number1/number2)\n",
    "print('The remainder obtained on dividing number2 by number 3 will be ',number2%number3)\n",
    "print('The number obtained on raising 9 to the power of 3 will be ',9**3)"
   ]
  },
  {
   "cell_type": "markdown",
   "metadata": {},
   "source": [
    "***\n",
    "## Data Structures in Python\n",
    "***\n",
    "\n",
    "![](https://media.geeksforgeeks.org/wp-content/uploads/20191023173512/Python-data-structure.jpg)\n",
    "\n",
    "**We will talk about the 3 main data types used in our daily programming routine in python:-**\n",
    "\n",
    "* Integers\n",
    "* Float\n",
    "* Strings"
   ]
  },
  {
   "cell_type": "markdown",
   "metadata": {},
   "source": [
    "**Integer**: The integer representation is used for all numbers which can be represented without a decimal."
   ]
  },
  {
   "cell_type": "code",
   "execution_count": 4,
   "metadata": {},
   "outputs": [
    {
     "name": "stdout",
     "output_type": "stream",
     "text": [
      "This is an example of an integer number:-  19\n"
     ]
    }
   ],
   "source": [
    "c = 19\n",
    "print('This is an example of an integer number:- ',c)"
   ]
  },
  {
   "cell_type": "markdown",
   "metadata": {},
   "source": [
    "**Float**: The float datatype is identified by a decimal notation used in the representation of numbers. The numbers are Real Numbers, integers and fractions depending upon the representation. \n",
    "The way the floating point numbers are shown is below"
   ]
  },
  {
   "cell_type": "code",
   "execution_count": 5,
   "metadata": {},
   "outputs": [
    {
     "name": "stdout",
     "output_type": "stream",
     "text": [
      "This is an example of a floating point number 45.6778\n"
     ]
    }
   ],
   "source": [
    "b = 45.6778\n",
    "print('This is an example of a floating point number',b)"
   ]
  },
  {
   "cell_type": "markdown",
   "metadata": {},
   "source": [
    "**Strings**: The strings are sequences of character datatypes used in Python. They are usually written within quotes or double quotes."
   ]
  },
  {
   "cell_type": "code",
   "execution_count": 6,
   "metadata": {},
   "outputs": [
    {
     "name": "stdout",
     "output_type": "stream",
     "text": [
      "This is a generic string statement used in python.\n"
     ]
    }
   ],
   "source": [
    "a = 'This is a generic string statement used in python.'\n",
    "print(a)"
   ]
  },
  {
   "cell_type": "markdown",
   "metadata": {},
   "source": [
    "**Typecasting**: Changing the datatype of an object in python is called Typecasting. \n",
    "\n",
    "For example, changing float to integer or changing integer to float and so on.\n",
    "\n",
    "We consider these 3 datatypes and demonstrate the typecasting on them"
   ]
  },
  {
   "cell_type": "code",
   "execution_count": 7,
   "metadata": {},
   "outputs": [
    {
     "name": "stdout",
     "output_type": "stream",
     "text": [
      "Converting a float to integer:-   14\n",
      "Converting an integer to float:-  12.0\n",
      "Converting an integer to string:- 12\n"
     ]
    }
   ],
   "source": [
    "strings  = 'a string'\n",
    "integers = 12\n",
    "floats   = 14.567\n",
    "\n",
    "print('Converting a float to integer:-  ',int(floats))\n",
    "print('Converting an integer to float:- ',float(integers))\n",
    "print('Converting an integer to string:-',str(integers))"
   ]
  },
  {
   "cell_type": "markdown",
   "metadata": {},
   "source": [
    "**Exercise One**: Take a string '12' and add 15 to it."
   ]
  },
  {
   "cell_type": "code",
   "execution_count": 8,
   "metadata": {},
   "outputs": [
    {
     "name": "stdout",
     "output_type": "stream",
     "text": [
      "The solution on typecasting a string '12' to integer and adding 15 to it is:  27\n"
     ]
    }
   ],
   "source": [
    "# Solution to exercise one\n",
    "a = '12'\n",
    "solution = int(a)+15\n",
    "print('The solution on typecasting a string \\'12\\' to integer and adding 15 to it is: ',solution)"
   ]
  },
  {
   "cell_type": "markdown",
   "metadata": {},
   "source": [
    "**Exercise Two**: Add two floating point numbers (12.909 and 15.607) and round them to an integer value."
   ]
  },
  {
   "cell_type": "code",
   "execution_count": 9,
   "metadata": {},
   "outputs": [
    {
     "name": "stdout",
     "output_type": "stream",
     "text": [
      "The necessary solution(without rounding) was:-  28.516\n",
      "The necessary solution(after rounding) is   :-  28\n"
     ]
    }
   ],
   "source": [
    "print('The necessary solution(without rounding) was:- ',(12.909+15.607))\n",
    "print('The necessary solution(after rounding) is   :- ',int(12.909+15.607))"
   ]
  },
  {
   "cell_type": "markdown",
   "metadata": {},
   "source": [
    "**A Short review about Boolean types**: Boolean type is either True of False. \n",
    "\n",
    "It is commonly used in ascertaining the validity of a particular expression. For example, we know 3 is less than 5 and the outcome of it must be True. A sample demonstration is given below"
   ]
  },
  {
   "cell_type": "code",
   "execution_count": 10,
   "metadata": {},
   "outputs": [
    {
     "name": "stdout",
     "output_type": "stream",
     "text": [
      "Sample demonstration of TRUE boolean type\n",
      "3<5 is True and the datatype of the result is of type <class 'bool'>\n",
      "\n",
      "\n",
      "Sample demonstration of False boolean type\n",
      "14<5 is False and the datatype of the result is of type <class 'bool'>\n"
     ]
    }
   ],
   "source": [
    "print('Sample demonstration of TRUE boolean type')\n",
    "print('3<5 is',3<5,'and the datatype of the result is of type', type(3<5))\n",
    "\n",
    "print('\\n')\n",
    "print('Sample demonstration of False boolean type')\n",
    "print('14<5 is',14<5,'and the datatype of the result is of type', type(3<5))"
   ]
  },
  {
   "cell_type": "markdown",
   "metadata": {},
   "source": [
    "**The Boolean datatype is mainly used in if-else conditions while checking multiple conditions at the same time**"
   ]
  },
  {
   "cell_type": "markdown",
   "metadata": {},
   "source": [
    "***\n",
    "## Lists\n",
    "***\n",
    "\n",
    "A list is a data structure that holds an ordered collection of items i.e. you can store a sequence of items in a list. This is easy to imagine if you can think of a shopping list where you have a list of items to buy, except that you probably have each item on a separate line in your shopping list whereas in Python you put commas in between them."
   ]
  },
  {
   "cell_type": "code",
   "execution_count": 11,
   "metadata": {},
   "outputs": [
    {
     "name": "stdout",
     "output_type": "stream",
     "text": [
      "I have 4 items to purchase.\n",
      "These items are: apple mango carrot banana \n",
      "I also have to buy rice.\n",
      "My shopping list is now ['apple', 'mango', 'carrot', 'banana', 'rice']\n",
      "I will sort my list now\n",
      "Sorted shopping list is ['apple', 'banana', 'carrot', 'mango', 'rice']\n",
      "The first item I will buy is apple\n",
      "I bought the apple\n",
      "My shopping list is now ['banana', 'carrot', 'mango', 'rice']\n"
     ]
    }
   ],
   "source": [
    "# This is my shopping list\n",
    "shoplist = ['apple', 'mango', 'carrot', 'banana']\n",
    "\n",
    "print('I have', len(shoplist), 'items to purchase.')\n",
    "\n",
    "print('These items are:', end=' ')\n",
    "for item in shoplist:\n",
    "    print(item, end=' ')\n",
    "\n",
    "print('\\nI also have to buy rice.')\n",
    "shoplist.append('rice')\n",
    "print('My shopping list is now', shoplist)\n",
    "\n",
    "print('I will sort my list now')\n",
    "shoplist.sort()\n",
    "print('Sorted shopping list is', shoplist)\n",
    "\n",
    "print('The first item I will buy is', shoplist[0])\n",
    "olditem = shoplist[0]\n",
    "del shoplist[0]\n",
    "print('I bought the', olditem)\n",
    "print('My shopping list is now', shoplist)"
   ]
  },
  {
   "cell_type": "markdown",
   "metadata": {},
   "source": [
    "#### How It Works\n",
    "\n",
    "The variable **shoplist** is a shopping list for someone who is going to the market. In **shoplist**, we only store strings of the names of the items to buy but you can add any kind of object to a list including numbers and even other lists.\n",
    "\n",
    "We have also used the **for..in** loop to iterate through the items of the list. By now, you must have realised that a list is also a sequence. The speciality of sequences will be discussed in a later section.\n",
    "\n",
    "Notice the use of the **end** parameter in the call to **print** function to indicate that we want to end the output with a space instead of the usual line break.\n",
    "\n",
    "Next, we add an item to the list using the **append** method of the list object, as already discussed before. Then, we check that the item has been indeed added to the list by printing the contents of the list by simply passing the list to the **print** function which prints it neatly.\n",
    "\n",
    "Then, we sort the list by using the **sort** method of the list. It is important to understand that this method affects the list itself and does not return a modified list - this is different from the way strings work. This is what we mean by saying that lists are mutable and that strings are immutable."
   ]
  },
  {
   "cell_type": "markdown",
   "metadata": {},
   "source": [
    "### Operations of List\n",
    "\n",
    "* **Append**\n",
    "We can add elements to a list by using append functionality. Append will mean that we are extending a list by an element.\n",
    "\n",
    "\n",
    "* **Extend**\n",
    "It helps in adding a list to a given list.\n",
    "\n",
    "\n",
    "* **Insert**\n",
    "We can insert an item at a given index by using this function\n",
    "\n",
    "    list_name.insert(index,value)\n",
    "\n",
    "\n",
    "* **Remove**\n",
    "We can remove a value from a list by using the remove functionality\n",
    "\n",
    "\n",
    "* **Index**\n",
    "We can also return the index of the first matched item of a list.\n",
    "\n",
    "\n",
    "* **Clear**\n",
    "We can remove the items from a list by using Clear functionality\n",
    "\n",
    "    list_name.clear()\n",
    "\n",
    "\n",
    "* **Sort**\n",
    "We can sort a list in whichever order possible using Sort functionality\n",
    "\n",
    "\n",
    "* **Count**\n",
    "We can get the count of a value from a list using count functinoality"
   ]
  },
  {
   "cell_type": "markdown",
   "metadata": {},
   "source": [
    "***\n",
    "## Tuple\n",
    "***\n",
    "\n",
    "Tuples are used to hold together multiple objects. Think of them as similar to lists, but without the extensive functionality that the list class gives you. One major feature of tuples is that they are immutable like strings i.e. you cannot modify tuples.\n",
    "\n",
    "Tuples are defined by specifying items separated by commas within an optional pair of parentheses.\n",
    "\n",
    "Tuples are usually used in cases where a statement or a user-defined function can safely assume that the collection of values (i.e. the tuple of values used) will not change."
   ]
  },
  {
   "cell_type": "code",
   "execution_count": 12,
   "metadata": {},
   "outputs": [
    {
     "name": "stdout",
     "output_type": "stream",
     "text": [
      "Number of animals in the zoo is 3\n",
      "Number of cages in the new zoo is 3\n",
      "All animals in new zoo are ('monkey', 'camel', ('python', 'elephant', 'penguin'))\n",
      "Animals brought from old zoo are ('python', 'elephant', 'penguin')\n",
      "Last animal brought from old zoo is penguin\n",
      "Number of animals in the new zoo is 5\n"
     ]
    }
   ],
   "source": [
    "# I would recommend always using parentheses to indicate start and end of tuple\n",
    "# even though parentheses are optional.\n",
    "# Explicit is better than implicit.\n",
    "\n",
    "zoo = ('python', 'elephant', 'penguin')\n",
    "print('Number of animals in the zoo is', len(zoo))\n",
    "\n",
    "new_zoo = 'monkey', 'camel', zoo    # parentheses not required but are a good idea\n",
    "print('Number of cages in the new zoo is', len(new_zoo))\n",
    "print('All animals in new zoo are', new_zoo)\n",
    "print('Animals brought from old zoo are', new_zoo[2])\n",
    "print('Last animal brought from old zoo is', new_zoo[2][2])\n",
    "print('Number of animals in the new zoo is',\n",
    "      len(new_zoo)-1+len(new_zoo[2]))"
   ]
  },
  {
   "cell_type": "markdown",
   "metadata": {},
   "source": [
    "#### How It Works\n",
    "\n",
    "The variable **zoo** refers to a tuple of items. We see that the **len** function can be used to get the length of the tuple. This also indicates that a tuple is a sequence as well.\n",
    "\n",
    "We are now shifting these animals to a new zoo since the old zoo is being closed. Therefore, the *new_zoo* tuple contains some animals which are already there along with the animals brought over from the old zoo. Back to reality, note that a tuple within a tuple does not lose its identity.\n",
    "\n",
    "We can access the items in the tuple by specifying the item's position within a pair of square brackets just like we did for lists. This is called the indexing operator. We access the third item in **new_zoo** by specifying **new_zoo[2]** and we access the third item within the third item in the new_zoo tuple by specifying **new_zoo[2][2]**. This is pretty simple once you've understood the idiom."
   ]
  },
  {
   "cell_type": "markdown",
   "metadata": {},
   "source": [
    "***\n",
    "## Dictionary\n",
    "***\n",
    "\n",
    "A dictionary is like an address-book where you can find the address or contact details of a person by knowing only his/her name i.e. we associate keys (name) with values (details). Note that the key must be unique just like you cannot find out the correct information if you have two persons with the exact same name.\n",
    "\n",
    "Note that you can use only immutable objects (like strings) for the keys of a dictionary but you can use either immutable or mutable objects for the values of the dictionary. This basically translates to say that you should use only simple objects for keys.\n",
    "\n",
    "Pairs of keys and values are specified in a dictionary by using the notation **d = {key1 : value1, key2 : value2 }**. Notice that the key-value pairs are separated by a colon and the pairs are separated themselves by commas and all this is enclosed in a pair of curly braces.\n",
    "\n",
    "Remember that key-value pairs in a dictionary are not ordered in any manner. If you want a particular order, then you will have to sort them yourself before using it.\n",
    "\n",
    "The dictionaries that you will be using are instances/objects of the **dict** class."
   ]
  },
  {
   "cell_type": "code",
   "execution_count": 13,
   "metadata": {},
   "outputs": [
    {
     "name": "stdout",
     "output_type": "stream",
     "text": [
      "Swaroop's address is swaroop@swaroopch.com\n",
      "\n",
      "There are 3 contacts in the address-book\n",
      "\n",
      "Contact Swaroop at swaroop@swaroopch.com\n",
      "Contact Larry at larry@wall.org\n",
      "Contact Matsumoto at matz@ruby-lang.org\n",
      "\n",
      "Guido's address is guido@python.org\n"
     ]
    }
   ],
   "source": [
    "# 'ab' is short for 'a'ddress'b'ook\n",
    "\n",
    "ab = {\n",
    "    'Swaroop': 'swaroop@swaroopch.com',\n",
    "    'Larry': 'larry@wall.org',\n",
    "    'Matsumoto': 'matz@ruby-lang.org',\n",
    "    'Spammer': 'spammer@hotmail.com'\n",
    "}\n",
    "\n",
    "print(\"Swaroop's address is\", ab['Swaroop'])\n",
    "\n",
    "# Deleting a key-value pair\n",
    "del ab['Spammer']\n",
    "\n",
    "print('\\nThere are {} contacts in the address-book\\n'.format(len(ab)))\n",
    "\n",
    "for name, address in ab.items():\n",
    "    print('Contact {} at {}'.format(name, address))\n",
    "\n",
    "# Adding a key-value pair\n",
    "ab['Guido'] = 'guido@python.org'\n",
    "\n",
    "if 'Guido' in ab:\n",
    "    print(\"\\nGuido's address is\", ab['Guido'])"
   ]
  },
  {
   "cell_type": "markdown",
   "metadata": {},
   "source": [
    "#### How It Works\n",
    "\n",
    "We create the dictionary **ab** using the notation already discussed. We then access key-value pairs by specifying the key using the indexing operator as discussed in the context of lists and tuples. Observe the simple syntax.\n",
    "\n",
    "We can delete key-value pairs using our old friend - the **del** statement. We simply specify the dictionary and the indexing operator for the key to be removed and pass it to the **del** statement. There is no need to know the value corresponding to the key for this operation.\n",
    "\n",
    "Next, we access each key-value pair of the dictionary using the **items** method of the dictionary which returns a list of tuples where each tuple contains a pair of items - the key followed by the value. We retrieve this pair and assign it to the variables **name** and **address** correspondingly for each pair using the **for..in** loop and then print these values in the for-block.\n",
    "\n",
    "We can add new key-value pairs by simply using the indexing operator to access a key and assign that value, as we have done for Guido in the above case.\n",
    "\n",
    "We can check if a key-value pair exists using the **in** operator."
   ]
  },
  {
   "cell_type": "markdown",
   "metadata": {},
   "source": [
    "***\n",
    "## Set\n",
    "***\n",
    "\n",
    "Sets are unordered collections of simple objects. These are used when the existence of an object in a collection is more important than the order or how many times it occurs.\n",
    "\n",
    "Using sets, you can test for membership, whether it is a subset of another set, find the intersection between two sets, and so on."
   ]
  },
  {
   "cell_type": "code",
   "execution_count": 14,
   "metadata": {},
   "outputs": [
    {
     "name": "stdout",
     "output_type": "stream",
     "text": [
      "True\n",
      "False\n",
      "Intersection of Set 1 and Set 2 {'brazil', 'india'}\n",
      "Union of Set 1 and Set 2 {'brazil', 'china', 'india', 'russia'}\n"
     ]
    }
   ],
   "source": [
    "bri = set(['brazil', 'russia', 'india'])\n",
    "\n",
    "#Check if india is in set\n",
    "print('india' in bri)\n",
    "\n",
    "print('usa' in bri)\n",
    "\n",
    "bric = bri.copy()\n",
    "\n",
    "bric.add('china')\n",
    "\n",
    "# Check if Set 2 is SuperSet of Set 1\n",
    "bric.issuperset(bri)\n",
    "\n",
    "bri.remove('russia')\n",
    "\n",
    "#Operations on Set\n",
    "\n",
    "print('Intersection of Set 1 and Set 2', bri & bric) #OR bri.intersection(bric)\n",
    "\n",
    "print('Union of Set 1 and Set 2', bri | bric) #OR bri.union(bric) "
   ]
  },
  {
   "cell_type": "markdown",
   "metadata": {},
   "source": [
    "#### How It Works\n",
    "\n",
    "If you remember basic set theory mathematics from school, then this example is fairly self-explanatory. But if not, you can google \"set theory\" and \"Venn diagram\" to better understand our use of sets in Python."
   ]
  },
  {
   "cell_type": "markdown",
   "metadata": {},
   "source": [
    "***\n",
    "## References\n",
    "***\n",
    "\n",
    "When you create an object and assign it to a variable, the variable only refers to the object and does not represent the object itself! That is, the variable name points to that part of your computer's memory where the object is stored. This is called binding the name to the object.\n",
    "\n",
    "Generally, you don't need to be worried about this, but there is a subtle effect due to references which you need to be aware of:"
   ]
  },
  {
   "cell_type": "code",
   "execution_count": 15,
   "metadata": {},
   "outputs": [
    {
     "name": "stdout",
     "output_type": "stream",
     "text": [
      "Simple Assignment\n",
      "shoplist is ['mango', 'carrot', 'banana']\n",
      "mylist is ['mango', 'carrot', 'banana']\n",
      "Copy by making a full slice\n",
      "shoplist is ['mango', 'carrot', 'banana']\n",
      "mylist is ['carrot', 'banana']\n"
     ]
    }
   ],
   "source": [
    "print('Simple Assignment')\n",
    "shoplist = ['apple', 'mango', 'carrot', 'banana']\n",
    "# mylist is just another name pointing to the same object!\n",
    "mylist = shoplist\n",
    "\n",
    "# I purchased the first item, so I remove it from the list\n",
    "del shoplist[0]\n",
    "\n",
    "print('shoplist is', shoplist)\n",
    "print('mylist is', mylist)\n",
    "# Notice that both shoplist and mylist both print\n",
    "# the same list without the 'apple' confirming that\n",
    "# they point to the same object\n",
    "\n",
    "print('Copy by making a full slice')\n",
    "# Make a copy by doing a full slice\n",
    "mylist = shoplist[:]\n",
    "# Remove first item\n",
    "del mylist[0]\n",
    "\n",
    "print('shoplist is', shoplist)\n",
    "print('mylist is', mylist)\n",
    "# Notice that now the two lists are different"
   ]
  },
  {
   "cell_type": "markdown",
   "metadata": {},
   "source": [
    "#### How It Works\n",
    "\n",
    "Most of the explanation is available in the comments.\n",
    "\n",
    "Remember that if you want to make a copy of a list or such kinds of sequences or complex objects (not simple objects such as integers), then you have to use the slicing operation to make a copy. If you just assign the variable name to another name, both of them will ''refer'' to the same object and this could be trouble if you are not careful."
   ]
  },
  {
   "cell_type": "markdown",
   "metadata": {},
   "source": [
    "***\n",
    "## More About Strings\n",
    "***\n",
    "\n",
    "We have already discussed strings in detail earlier. What more can there be to know? Well, did you know that strings are also objects and have methods which do everything from checking part of a string to stripping spaces? In fact, you've already been using a string method... the format method!\n",
    "\n",
    "The strings that you use in programs are all objects of the class str. Some useful methods of this class are demonstrated in the next example. For a complete list of such methods, see help(str)."
   ]
  },
  {
   "cell_type": "code",
   "execution_count": 16,
   "metadata": {},
   "outputs": [
    {
     "name": "stdout",
     "output_type": "stream",
     "text": [
      "Yes, the string starts with \"Swa\"\n",
      "Yes, it contains the string \"a\"\n",
      "Yes, it contains the string \"war\"\n",
      "Brazil_*_Russia_*_India_*_China\n"
     ]
    }
   ],
   "source": [
    "# This is a string object\n",
    "name = 'Swaroop'\n",
    "\n",
    "if name.startswith('Swa'):\n",
    "    print('Yes, the string starts with \"Swa\"')\n",
    "\n",
    "if 'a' in name:\n",
    "    print('Yes, it contains the string \"a\"')\n",
    "\n",
    "if name.find('war') != -1:\n",
    "    print('Yes, it contains the string \"war\"')\n",
    "\n",
    "delimiter = '_*_'\n",
    "mylist = ['Brazil', 'Russia', 'India', 'China']\n",
    "print(delimiter.join(mylist))"
   ]
  },
  {
   "cell_type": "markdown",
   "metadata": {},
   "source": [
    "#### How It Works\n",
    "\n",
    "Here, we see a lot of the string methods in action. The **startswith** method is used to find out whether the string starts with the given string. The **in** operator is used to check if a given string is a part of the string.\n",
    "\n",
    "The **find** method is used to locate the position of the given substring within the string; **find** returns -1 if it is unsuccessful in finding the substring. The **str** class also has a neat method to **join** the items of a sequence with the string acting as a delimiter between each item of the sequence and returns a bigger string generated from this."
   ]
  },
  {
   "cell_type": "markdown",
   "metadata": {},
   "source": [
    "***\n",
    "## Loops\n",
    "***\n",
    "\n",
    "In general, statements are executed sequentially: The first statement in a function is executed first, followed by the second, and so on. There may be a situation when you need to execute a block of code several number of times.\n",
    "\n",
    "Programming languages provide various control structures that allow for more complicated execution paths.\n",
    "\n",
    "A loop statement allows us to execute a statement or group of statements multiple times. The following diagram illustrates a loop statement −\n",
    "\n",
    "![](https://www.tutorialspoint.com/python/images/loop_architecture.jpg)\n",
    "\n",
    "Python programming language provides following types of loops to handle looping requirements\n",
    "\n",
    "* **While loop**: \n",
    "Repeats a statement or group of statements while a given condition is TRUE. It tests the condition before executing the loop body.\n",
    "\n",
    "* **For loop**: \n",
    "Executes a sequence of statements multiple times and abbreviates the code that manages the loop variable.\n",
    "\n",
    "* **Nested loop**: \n",
    "You can use one or more loop inside any another while, for or do..while loop.\n",
    "\n",
    "#### Loop Control Statements\n",
    "\n",
    "Loop control statements change execution from its normal sequence. When execution leaves a scope, all automatic objects that were created in that scope are destroyed.\n",
    "\n",
    "Python supports the following control statements. Click the following links to check their detail.\n",
    "\n",
    "* **break statement**: \n",
    "Terminates the loop statement and transfers execution to the statement immediately following the loop.\n",
    "\n",
    "* **continue statement**: \n",
    "Causes the loop to skip the remainder of its body and immediately retest its condition prior to reiterating.\n",
    "\n",
    "* **pass statement**: \n",
    "The pass statement in Python is used when a statement is required syntactically but you do not want any command or code to execute.\n",
    "\n",
    "Let's see some practical examples:"
   ]
  },
  {
   "cell_type": "code",
   "execution_count": 17,
   "metadata": {},
   "outputs": [
    {
     "name": "stdout",
     "output_type": "stream",
     "text": [
      "index:-  0  values:-  1\n",
      "index:-  1  values:-  2\n",
      "index:-  2  values:-  3\n",
      "index:-  3  values:-  4\n",
      "index:-  4  values:-  5\n",
      "index:-  5  values:-  6\n",
      "index:-  6  values:-  7\n",
      "index:-  7  values:-  8\n",
      "index:-  8  values:-  9\n",
      "index:-  9  values:-  10\n"
     ]
    }
   ],
   "source": [
    "# We take a list and try to print all the elements of that list using a for loop\n",
    "\n",
    "a = [1,2,3,4,5,6,7,8,9,10]\n",
    "for i in range(0,len(a),1):\n",
    "    print('index:- ',i,' values:- ',a[i])"
   ]
  },
  {
   "cell_type": "markdown",
   "metadata": {},
   "source": [
    "**Meaning of the above statement** \n",
    "\n",
    "* Here i is the index of the loop which will allow the loop to iterate through the list. The value of the index will tell the location in the list for example if i = 2 then we will access a[2]\n",
    "* The for loop is written in following format :- for i in range(start_value,end_value,increment)\n",
    "* The start value will tell the for loop as to where it shall tell the index i to begin.\n",
    "* The end_value will tell the for loop as to where it shall tell the index i to stop.\n",
    "* The increment will tell the for loop to tell the index i as to what is the length of steps it needs to take"
   ]
  },
  {
   "cell_type": "markdown",
   "metadata": {},
   "source": [
    "### An exmple to print the datatype of elements in a list"
   ]
  },
  {
   "cell_type": "code",
   "execution_count": 18,
   "metadata": {},
   "outputs": [
    {
     "name": "stdout",
     "output_type": "stream",
     "text": [
      "value  112            Data Type <class 'int'>\n",
      "value  1            Data Type <class 'int'>\n",
      "value  45            Data Type <class 'int'>\n",
      "value  vampires            Data Type <class 'str'>\n",
      "value  good vampires            Data Type <class 'str'>\n",
      "value  blood thirsty vampires            Data Type <class 'str'>\n",
      "value  hybrid vampires            Data Type <class 'str'>\n",
      "value  12.22            Data Type <class 'float'>\n",
      "value  90.999            Data Type <class 'float'>\n",
      "value  93.2            Data Type <class 'float'>\n",
      "value  original vampires            Data Type <class 'str'>\n"
     ]
    }
   ],
   "source": [
    "sample_list = [112,1,45,'vampires','good vampires','blood thirsty vampires','hybrid vampires',12.22,90.999,93.2,'original vampires']\n",
    "for i in range(0,len(sample_list),1):\n",
    "    print('value ',sample_list[i],'           Data Type',type(sample_list[i]))"
   ]
  },
  {
   "cell_type": "markdown",
   "metadata": {},
   "source": [
    "### An example to print all numbers between 0 to 10 except 7"
   ]
  },
  {
   "cell_type": "code",
   "execution_count": 19,
   "metadata": {},
   "outputs": [
    {
     "name": "stdout",
     "output_type": "stream",
     "text": [
      "0\n",
      "1\n",
      "2\n",
      "3\n",
      "4\n",
      "5\n",
      "6\n",
      "8\n",
      "9\n",
      "10\n"
     ]
    }
   ],
   "source": [
    "for i in range(0,11,1):\n",
    "    if i!=7:\n",
    "        print(i)"
   ]
  },
  {
   "cell_type": "markdown",
   "metadata": {},
   "source": [
    "### An example to get all odd numbers between 1 to 20"
   ]
  },
  {
   "cell_type": "code",
   "execution_count": 20,
   "metadata": {},
   "outputs": [
    {
     "name": "stdout",
     "output_type": "stream",
     "text": [
      "Odd numbers between 0 and 20 are  [1, 3, 5, 7, 9, 11, 13, 15, 17, 19]\n"
     ]
    }
   ],
   "source": [
    "odd_numbers = []\n",
    "for i in range(1,21,2):\n",
    "    odd_numbers.append(i)\n",
    "print('Odd numbers between 0 and 20 are ',odd_numbers)"
   ]
  },
  {
   "cell_type": "markdown",
   "metadata": {},
   "source": [
    "### Multiplication table."
   ]
  },
  {
   "cell_type": "code",
   "execution_count": 21,
   "metadata": {},
   "outputs": [
    {
     "name": "stdout",
     "output_type": "stream",
     "text": [
      "Enter a number for which you need a multiplication table:- 9\n",
      "9  x 0  =  0\n",
      "9  x 1  =  9\n",
      "9  x 2  =  18\n",
      "9  x 3  =  27\n",
      "9  x 4  =  36\n",
      "9  x 5  =  45\n",
      "9  x 6  =  54\n",
      "9  x 7  =  63\n",
      "9  x 8  =  72\n",
      "9  x 9  =  81\n",
      "9  x 10  =  90\n"
     ]
    }
   ],
   "source": [
    "number = int(input('Enter a number for which you need a multiplication table:- '))\n",
    "for i in range(11):\n",
    "    print(number,' x',i,' = ',number*i)"
   ]
  },
  {
   "cell_type": "markdown",
   "metadata": {},
   "source": [
    "## Assignment\n",
    "\n",
    "1. Print all the leap years between 2 years taken as input\n",
    "2. Print Fibonacci series using for loop.\n",
    "\n",
    "Solve some more problems to practise python basics more from: https://www.w3resource.com/python-exercises/python-basic-exercises.php?passed=passed"
   ]
  },
  {
   "cell_type": "markdown",
   "metadata": {},
   "source": [
    "# References and Links to Refer \n",
    "\n",
    "Python tutorials by TutorialsPoint: https://www.tutorialspoint.com/python/index.htm\n",
    "\n",
    "Python Datastructures: https://python.swaroopch.com/data_structures.html\n",
    "\n",
    "## Video Tutorials:\n",
    "\n",
    "Python Tutorials by Corey Schafer (I learned from him): https://www.youtube.com/watch?v=YYXdXT2l-Gg&list=PL-osiE80TeTt2d9bfVyTiXJA-UTHn6WwU\n",
    "\n",
    "Python Tutorials by Sentdex: https://www.youtube.com/watch?v=oVp1vrfL_w4&list=PLQVvvaa0QuDe8XSftW-RAxdo6OmaeL85M\n",
    "\n",
    "Python Tutorials by Telusko(Indian Author - Recommended): https://www.youtube.com/watch?v=QXeEoD0pB3E&list=PLsyeobzWxl7poL9JTVyndKe62ieoN-MZ3"
   ]
  }
 ],
 "metadata": {
  "kernelspec": {
   "display_name": "Python 3",
   "language": "python",
   "name": "python3"
  },
  "language_info": {
   "codemirror_mode": {
    "name": "ipython",
    "version": 3
   },
   "file_extension": ".py",
   "mimetype": "text/x-python",
   "name": "python",
   "nbconvert_exporter": "python",
   "pygments_lexer": "ipython3",
   "version": "3.7.4"
  }
 },
 "nbformat": 4,
 "nbformat_minor": 2
}
